{
 "cells": [
  {
   "cell_type": "code",
   "execution_count": 1,
   "id": "6b30dd06",
   "metadata": {},
   "outputs": [],
   "source": [
    "import tensorflow as tf\n",
    "import pandas as pd\n",
    "import numpy as np"
   ]
  },
  {
   "cell_type": "code",
   "execution_count": 57,
   "id": "9321c4cd",
   "metadata": {},
   "outputs": [
    {
     "data": {
      "text/plain": [
       "'2.8.1'"
      ]
     },
     "execution_count": 57,
     "metadata": {},
     "output_type": "execute_result"
    }
   ],
   "source": [
    "tf.__version__"
   ]
  },
  {
   "cell_type": "code",
   "execution_count": 58,
   "id": "11eb06fc",
   "metadata": {},
   "outputs": [
    {
     "data": {
      "text/plain": [
       "'2.8.0'"
      ]
     },
     "execution_count": 58,
     "metadata": {},
     "output_type": "execute_result"
    }
   ],
   "source": [
    "import tensorflow\n",
    "tensorflow.keras.__version__"
   ]
  },
  {
   "cell_type": "code",
   "execution_count": 2,
   "id": "c11dee69",
   "metadata": {},
   "outputs": [],
   "source": [
    "def __load_dataframe(is_train=True):\n",
    "    base_path=\"./data/facial-keypoints-detection/\"\n",
    "    if is_train:\n",
    "        file_name = \"training.csv\"\n",
    "    else:\n",
    "        file_name = \"test.csv\"\n",
    "    return pd.read_csv(base_path + file_name)"
   ]
  },
  {
   "cell_type": "code",
   "execution_count": 3,
   "id": "597cd5b4",
   "metadata": {},
   "outputs": [],
   "source": [
    "def __convert_image_dataset(raw_image_infos):\n",
    "    image_infos = []\n",
    "    for raw_img_info in raw_image_infos:\n",
    "        image_infos.append(list(map(int, raw_img_info.split())))\n",
    "    image_infos = np.array(image_infos).reshape(-1,96,96,1)\n",
    "    return image_infos"
   ]
  },
  {
   "cell_type": "code",
   "execution_count": 4,
   "id": "8873fbc8",
   "metadata": {},
   "outputs": [],
   "source": [
    "def get_dataset_xy(is_train=True):\n",
    "    df = __load_dataframe(is_train)\n",
    "    y = df.iloc[:,:-1]\n",
    "    x = df.iloc[:,-1]\n",
    "    x = __convert_image_dataset(x)\n",
    "    return x, y.values"
   ]
  },
  {
   "cell_type": "code",
   "execution_count": 5,
   "id": "abb6b912",
   "metadata": {},
   "outputs": [],
   "source": [
    "def normalize_image(x):\n",
    "    x = x.astype(np.float32)/255.0\n",
    "    return x"
   ]
  },
  {
   "cell_type": "code",
   "execution_count": 6,
   "id": "def94c13",
   "metadata": {},
   "outputs": [],
   "source": [
    "def split_data(x, y, train_ratio=0.8):\n",
    "    row = x.shape[0]\n",
    "    indices = np.random.choice(row, row)\n",
    "    x = tf.gather(x, indices=indices).numpy()\n",
    "    y = tf.gather(y, indices=indices).numpy()\n",
    "\n",
    "    train_count = int(row * train_ratio)\n",
    "    valid_count = row - train_count\n",
    "    x0, x1 = tf.split(x, [train_count, valid_count])\n",
    "    y0, y1 = tf.split(y, [train_count, valid_count])\n",
    "    x = [x0, x1]\n",
    "    y = [y0, y1]\n",
    "    print(x0.shape, x1.shape, y0.shape, y1.shape,)\n",
    "    return x, y"
   ]
  },
  {
   "cell_type": "code",
   "execution_count": 7,
   "id": "cba9d165",
   "metadata": {},
   "outputs": [],
   "source": [
    "train_x, train_y = get_dataset_xy(is_train=True)"
   ]
  },
  {
   "cell_type": "code",
   "execution_count": 8,
   "id": "c18fdf51",
   "metadata": {},
   "outputs": [],
   "source": [
    "train_x = normalize_image(train_x)"
   ]
  },
  {
   "cell_type": "code",
   "execution_count": 9,
   "id": "06303973",
   "metadata": {
    "scrolled": true
   },
   "outputs": [
    {
     "name": "stdout",
     "output_type": "stream",
     "text": [
      "(5639, 96, 96, 1) (1410, 96, 96, 1) (5639, 30) (1410, 30)\n"
     ]
    }
   ],
   "source": [
    "train_x2, train_y2 = split_data(train_x, train_y)"
   ]
  },
  {
   "cell_type": "code",
   "execution_count": 61,
   "id": "d94da6e7",
   "metadata": {},
   "outputs": [],
   "source": [
    "from tensorflow.keras.models import Sequential\n",
    "from tensorflow.keras.layers import Dense, Flatten\n",
    "from tensorflow.keras.layers import Conv2D, MaxPool2D\n",
    "\n",
    "import numpy as np\n",
    "\n",
    "# class Block():\n",
    "#     def __init__(self, input_size, conv_filters, kernel_size=(3, 3), conv_stride=(1, 1),\n",
    "#                 pool_size=(2, 2), pool_stride=(2, 2)):\n",
    "#         self.block = Sequential([\n",
    "#             Conv2D(input_shape=input_size, filters=conv_filters[0], kernel_size=kernel_size,\n",
    "#                     strides=conv_stride, padding=\"same\", activation=\"relu\"),\n",
    "#             Conv2D(filters=conv_filters[1], kernel_size=(3, 3),\n",
    "#                     strides=conv_stride, padding=\"same\", activation=\"relu\"),\n",
    "#             MaxPool2D(pool_size=pool_size, strides=pool_stride),\n",
    "#         ])\n",
    "\n",
    "class Facial_Kepoints_Detect():\n",
    "    def __init__(self, input_size, output_size,\n",
    "                    init_conv_filters, kernel_size=(3, 3), conv_stride=(1, 1),\n",
    "                    pool_size=(2, 2), pool_stride=(2, 2)):\n",
    "        last_input_size = input_size\n",
    "        # for i in range(2):\n",
    "        #     filters = (init_conv_filters * (2 * i + 1), init_conv_filters * (2 * i + 2))\n",
    "        #     blocks += [Block(last_input_size, conv_filters=filters)]\n",
    "        #     last_input_size = list((np.array(last_input_size[:2]) / pool_size[0]).astype(\"int64\")) + [filters[-1]]\n",
    "        #     print(filters, last_input_size)\n",
    "#         last_input_size = last_input_size[0]*last_input_size[1] * filters[-1]\n",
    "        self.layers = Sequential([\n",
    "                                Conv2D(input_shape=input_size, filters=init_conv_filters, kernel_size=kernel_size,\n",
    "                                        strides=conv_stride, padding=\"same\", activation=\"relu\"),\n",
    "                                Conv2D(filters=init_conv_filters*2, kernel_size=kernel_size,\n",
    "                                        strides=conv_stride, padding=\"same\", activation=\"relu\"),\n",
    "                                MaxPool2D(pool_size=pool_size, strides=pool_stride),\n",
    "                                Conv2D(filters=init_conv_filters*3, kernel_size=kernel_size,\n",
    "                                        strides=conv_stride, padding=\"same\", activation=\"relu\"),\n",
    "                                Conv2D(filters=init_conv_filters*4, kernel_size=kernel_size,\n",
    "                                        strides=conv_stride, padding=\"same\", activation=\"relu\"),\n",
    "                                MaxPool2D(pool_size=pool_size, strides=pool_stride),\n",
    "                                Flatten(),\n",
    "                                Dense(last_input_size, activation=\"relu\"),\n",
    "                                Dense(output_size, activation=\"relu\")\n",
    "        ])\n",
    "\n"
   ]
  },
  {
   "cell_type": "code",
   "execution_count": 62,
   "id": "9bb5284e",
   "metadata": {
    "scrolled": false
   },
   "outputs": [
    {
     "ename": "TypeError",
     "evalue": "int() argument must be a string, a bytes-like object or a real number, not 'list'",
     "output_type": "error",
     "traceback": [
      "\u001b[0;31m---------------------------------------------------------------------------\u001b[0m",
      "\u001b[0;31mTypeError\u001b[0m                                 Traceback (most recent call last)",
      "Input \u001b[0;32mIn [62]\u001b[0m, in \u001b[0;36m<cell line: 1>\u001b[0;34m()\u001b[0m\n\u001b[0;32m----> 1\u001b[0m model \u001b[38;5;241m=\u001b[39m \u001b[43mFacial_Kepoints_Detect\u001b[49m\u001b[43m(\u001b[49m\u001b[43minput_size\u001b[49m\u001b[38;5;241;43m=\u001b[39;49m\u001b[43m[\u001b[49m\u001b[38;5;241;43m96\u001b[39;49m\u001b[43m,\u001b[49m\u001b[38;5;241;43m96\u001b[39;49m\u001b[43m,\u001b[49m\u001b[38;5;241;43m1\u001b[39;49m\u001b[43m]\u001b[49m\u001b[43m,\u001b[49m\u001b[43m \u001b[49m\u001b[43moutput_size\u001b[49m\u001b[38;5;241;43m=\u001b[39;49m\u001b[38;5;241;43m30\u001b[39;49m\u001b[43m,\u001b[49m\u001b[43m \u001b[49m\u001b[43minit_conv_filters\u001b[49m\u001b[38;5;241;43m=\u001b[39;49m\u001b[38;5;241;43m8\u001b[39;49m\u001b[43m,\u001b[49m\u001b[43m)\u001b[49m\n\u001b[1;32m      2\u001b[0m model\u001b[38;5;241m.\u001b[39msummray()\n",
      "Input \u001b[0;32mIn [61]\u001b[0m, in \u001b[0;36mFacial_Kepoints_Detect.__init__\u001b[0;34m(self, input_size, output_size, init_conv_filters, kernel_size, conv_stride, pool_size, pool_stride)\u001b[0m\n\u001b[1;32m     22\u001b[0m last_input_size \u001b[38;5;241m=\u001b[39m input_size\n\u001b[1;32m     23\u001b[0m \u001b[38;5;66;03m# for i in range(2):\u001b[39;00m\n\u001b[1;32m     24\u001b[0m \u001b[38;5;66;03m#     filters = (init_conv_filters * (2 * i + 1), init_conv_filters * (2 * i + 2))\u001b[39;00m\n\u001b[1;32m     25\u001b[0m \u001b[38;5;66;03m#     blocks += [Block(last_input_size, conv_filters=filters)]\u001b[39;00m\n\u001b[1;32m     26\u001b[0m \u001b[38;5;66;03m#     last_input_size = list((np.array(last_input_size[:2]) / pool_size[0]).astype(\"int64\")) + [filters[-1]]\u001b[39;00m\n\u001b[1;32m     27\u001b[0m \u001b[38;5;66;03m#     print(filters, last_input_size)\u001b[39;00m\n\u001b[1;32m     28\u001b[0m \u001b[38;5;66;03m# last_input_size = last_input_size[0]*last_input_size[1] * filters[-1]\u001b[39;00m\n\u001b[1;32m     29\u001b[0m \u001b[38;5;28mself\u001b[39m\u001b[38;5;241m.\u001b[39mlayers \u001b[38;5;241m=\u001b[39m Sequential([\n\u001b[1;32m     30\u001b[0m                         Conv2D(input_shape\u001b[38;5;241m=\u001b[39minput_size, filters\u001b[38;5;241m=\u001b[39minit_conv_filters, kernel_size\u001b[38;5;241m=\u001b[39mkernel_size,\n\u001b[1;32m     31\u001b[0m                                 strides\u001b[38;5;241m=\u001b[39mconv_stride, padding\u001b[38;5;241m=\u001b[39m\u001b[38;5;124m\"\u001b[39m\u001b[38;5;124msame\u001b[39m\u001b[38;5;124m\"\u001b[39m, activation\u001b[38;5;241m=\u001b[39m\u001b[38;5;124m\"\u001b[39m\u001b[38;5;124mrelu\u001b[39m\u001b[38;5;124m\"\u001b[39m),\n\u001b[1;32m     32\u001b[0m                         Conv2D(filters\u001b[38;5;241m=\u001b[39minit_conv_filters\u001b[38;5;241m*\u001b[39m\u001b[38;5;241m2\u001b[39m, kernel_size\u001b[38;5;241m=\u001b[39mkernel_size,\n\u001b[1;32m     33\u001b[0m                                 strides\u001b[38;5;241m=\u001b[39mconv_stride, padding\u001b[38;5;241m=\u001b[39m\u001b[38;5;124m\"\u001b[39m\u001b[38;5;124msame\u001b[39m\u001b[38;5;124m\"\u001b[39m, activation\u001b[38;5;241m=\u001b[39m\u001b[38;5;124m\"\u001b[39m\u001b[38;5;124mrelu\u001b[39m\u001b[38;5;124m\"\u001b[39m),\n\u001b[1;32m     34\u001b[0m                         MaxPool2D(pool_size\u001b[38;5;241m=\u001b[39mpool_size, strides\u001b[38;5;241m=\u001b[39mpool_stride),\n\u001b[1;32m     35\u001b[0m                         Conv2D(filters\u001b[38;5;241m=\u001b[39minit_conv_filters\u001b[38;5;241m*\u001b[39m\u001b[38;5;241m3\u001b[39m, kernel_size\u001b[38;5;241m=\u001b[39mkernel_size,\n\u001b[1;32m     36\u001b[0m                                 strides\u001b[38;5;241m=\u001b[39mconv_stride, padding\u001b[38;5;241m=\u001b[39m\u001b[38;5;124m\"\u001b[39m\u001b[38;5;124msame\u001b[39m\u001b[38;5;124m\"\u001b[39m, activation\u001b[38;5;241m=\u001b[39m\u001b[38;5;124m\"\u001b[39m\u001b[38;5;124mrelu\u001b[39m\u001b[38;5;124m\"\u001b[39m),\n\u001b[1;32m     37\u001b[0m                         Conv2D(filters\u001b[38;5;241m=\u001b[39minit_conv_filters\u001b[38;5;241m*\u001b[39m\u001b[38;5;241m4\u001b[39m, kernel_size\u001b[38;5;241m=\u001b[39mkernel_size,\n\u001b[1;32m     38\u001b[0m                                 strides\u001b[38;5;241m=\u001b[39mconv_stride, padding\u001b[38;5;241m=\u001b[39m\u001b[38;5;124m\"\u001b[39m\u001b[38;5;124msame\u001b[39m\u001b[38;5;124m\"\u001b[39m, activation\u001b[38;5;241m=\u001b[39m\u001b[38;5;124m\"\u001b[39m\u001b[38;5;124mrelu\u001b[39m\u001b[38;5;124m\"\u001b[39m),\n\u001b[1;32m     39\u001b[0m                         MaxPool2D(pool_size\u001b[38;5;241m=\u001b[39mpool_size, strides\u001b[38;5;241m=\u001b[39mpool_stride),\n\u001b[1;32m     40\u001b[0m                         Flatten(),\n\u001b[0;32m---> 41\u001b[0m                         \u001b[43mDense\u001b[49m\u001b[43m(\u001b[49m\u001b[43mlast_input_size\u001b[49m\u001b[43m,\u001b[49m\u001b[43m \u001b[49m\u001b[43mactivation\u001b[49m\u001b[38;5;241;43m=\u001b[39;49m\u001b[38;5;124;43m\"\u001b[39;49m\u001b[38;5;124;43mrelu\u001b[39;49m\u001b[38;5;124;43m\"\u001b[39;49m\u001b[43m)\u001b[49m,\n\u001b[1;32m     42\u001b[0m                         Dense(output_size, activation\u001b[38;5;241m=\u001b[39m\u001b[38;5;124m\"\u001b[39m\u001b[38;5;124mrelu\u001b[39m\u001b[38;5;124m\"\u001b[39m)\n\u001b[1;32m     43\u001b[0m ])\n",
      "File \u001b[0;32m/opt/homebrew/Caskroom/miniforge/base/envs/dnn/lib/python3.10/site-packages/keras/layers/core/dense.py:114\u001b[0m, in \u001b[0;36mDense.__init__\u001b[0;34m(self, units, activation, use_bias, kernel_initializer, bias_initializer, kernel_regularizer, bias_regularizer, activity_regularizer, kernel_constraint, bias_constraint, **kwargs)\u001b[0m\n\u001b[1;32m     99\u001b[0m \u001b[38;5;28;01mdef\u001b[39;00m \u001b[38;5;21m__init__\u001b[39m(\u001b[38;5;28mself\u001b[39m,\n\u001b[1;32m    100\u001b[0m              units,\n\u001b[1;32m    101\u001b[0m              activation\u001b[38;5;241m=\u001b[39m\u001b[38;5;28;01mNone\u001b[39;00m,\n\u001b[0;32m   (...)\u001b[0m\n\u001b[1;32m    109\u001b[0m              bias_constraint\u001b[38;5;241m=\u001b[39m\u001b[38;5;28;01mNone\u001b[39;00m,\n\u001b[1;32m    110\u001b[0m              \u001b[38;5;241m*\u001b[39m\u001b[38;5;241m*\u001b[39mkwargs):\n\u001b[1;32m    111\u001b[0m   \u001b[38;5;28msuper\u001b[39m(Dense, \u001b[38;5;28mself\u001b[39m)\u001b[38;5;241m.\u001b[39m\u001b[38;5;21m__init__\u001b[39m(\n\u001b[1;32m    112\u001b[0m       activity_regularizer\u001b[38;5;241m=\u001b[39mactivity_regularizer, \u001b[38;5;241m*\u001b[39m\u001b[38;5;241m*\u001b[39mkwargs)\n\u001b[0;32m--> 114\u001b[0m   \u001b[38;5;28mself\u001b[39m\u001b[38;5;241m.\u001b[39munits \u001b[38;5;241m=\u001b[39m \u001b[38;5;28;43mint\u001b[39;49m\u001b[43m(\u001b[49m\u001b[43munits\u001b[49m\u001b[43m)\u001b[49m \u001b[38;5;28;01mif\u001b[39;00m \u001b[38;5;129;01mnot\u001b[39;00m \u001b[38;5;28misinstance\u001b[39m(units, \u001b[38;5;28mint\u001b[39m) \u001b[38;5;28;01melse\u001b[39;00m units\n\u001b[1;32m    115\u001b[0m   \u001b[38;5;28;01mif\u001b[39;00m \u001b[38;5;28mself\u001b[39m\u001b[38;5;241m.\u001b[39munits \u001b[38;5;241m<\u001b[39m \u001b[38;5;241m0\u001b[39m:\n\u001b[1;32m    116\u001b[0m     \u001b[38;5;28;01mraise\u001b[39;00m \u001b[38;5;167;01mValueError\u001b[39;00m(\u001b[38;5;124mf\u001b[39m\u001b[38;5;124m'\u001b[39m\u001b[38;5;124mReceived an invalid value for `units`, expected \u001b[39m\u001b[38;5;124m'\u001b[39m\n\u001b[1;32m    117\u001b[0m                      \u001b[38;5;124mf\u001b[39m\u001b[38;5;124m'\u001b[39m\u001b[38;5;124ma positive integer. Received: units=\u001b[39m\u001b[38;5;132;01m{\u001b[39;00munits\u001b[38;5;132;01m}\u001b[39;00m\u001b[38;5;124m'\u001b[39m)\n",
      "\u001b[0;31mTypeError\u001b[0m: int() argument must be a string, a bytes-like object or a real number, not 'list'"
     ]
    }
   ],
   "source": [
    "model = Facial_Kepoints_Detect(input_size=[96,96,1], output_size=30, init_conv_filters=8,)\n",
    "model.summray()\n"
   ]
  },
  {
   "cell_type": "code",
   "execution_count": 39,
   "id": "fb6c65a0",
   "metadata": {},
   "outputs": [
    {
     "data": {
      "text/plain": [
       "((8, 16), 16)"
      ]
     },
     "execution_count": 39,
     "metadata": {},
     "output_type": "execute_result"
    }
   ],
   "source": [
    "filters = (8 * (2 * 0 + 1), 8 * (2 * 0 + 2))\n",
    "filters, filters[-1]"
   ]
  },
  {
   "cell_type": "code",
   "execution_count": 40,
   "id": "75eceb39",
   "metadata": {},
   "outputs": [],
   "source": [
    "last_input_size = [96,96,1]\n",
    "pool_size = (2,2)"
   ]
  },
  {
   "cell_type": "code",
   "execution_count": 41,
   "id": "18c7c685",
   "metadata": {},
   "outputs": [
    {
     "data": {
      "text/plain": [
       "dtype('int64')"
      ]
     },
     "execution_count": 41,
     "metadata": {},
     "output_type": "execute_result"
    }
   ],
   "source": [
    "np.array(last_input_size).dtype"
   ]
  },
  {
   "cell_type": "code",
   "execution_count": 42,
   "id": "a9298ce9",
   "metadata": {},
   "outputs": [
    {
     "data": {
      "text/plain": [
       "[48, 48, 16]"
      ]
     },
     "execution_count": 42,
     "metadata": {},
     "output_type": "execute_result"
    }
   ],
   "source": [
    "last_input_size = list((np.array(last_input_size[:2]) / pool_size[0]).astype(\"int64\")) + [filters[-1]]\n",
    "last_input_size"
   ]
  },
  {
   "cell_type": "code",
   "execution_count": null,
   "id": "5f14d5cd",
   "metadata": {},
   "outputs": [],
   "source": []
  },
  {
   "cell_type": "code",
   "execution_count": null,
   "id": "ff56cc7c",
   "metadata": {},
   "outputs": [],
   "source": []
  },
  {
   "cell_type": "code",
   "execution_count": null,
   "id": "aa9dcfa1",
   "metadata": {},
   "outputs": [],
   "source": []
  }
 ],
 "metadata": {
  "kernelspec": {
   "display_name": "Python 3 (ipykernel)",
   "language": "python",
   "name": "python3"
  },
  "language_info": {
   "codemirror_mode": {
    "name": "ipython",
    "version": 3
   },
   "file_extension": ".py",
   "mimetype": "text/x-python",
   "name": "python",
   "nbconvert_exporter": "python",
   "pygments_lexer": "ipython3",
   "version": "3.10.5"
  }
 },
 "nbformat": 4,
 "nbformat_minor": 5
}
