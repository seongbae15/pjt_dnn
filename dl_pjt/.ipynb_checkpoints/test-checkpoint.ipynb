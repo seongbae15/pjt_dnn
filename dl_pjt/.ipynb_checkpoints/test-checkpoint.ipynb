{
 "cells": [
  {
   "cell_type": "code",
   "execution_count": 78,
   "id": "6b30dd06",
   "metadata": {},
   "outputs": [],
   "source": [
    "import tensorflow as tf\n",
    "import pandas as pd\n",
    "import numpy as np"
   ]
  },
  {
   "cell_type": "code",
   "execution_count": 79,
   "id": "c11dee69",
   "metadata": {},
   "outputs": [],
   "source": [
    "def __load_dataframe(is_train=True):\n",
    "    base_path=\"./data/facial-keypoints-detection/\"\n",
    "    if is_train:\n",
    "        file_name = \"training.csv\"\n",
    "    else:\n",
    "        file_name = \"test.csv\"\n",
    "    return pd.read_csv(base_path + file_name)"
   ]
  },
  {
   "cell_type": "code",
   "execution_count": 80,
   "id": "597cd5b4",
   "metadata": {},
   "outputs": [],
   "source": [
    "def __convert_image_dataset(raw_image_infos):\n",
    "    image_infos = []\n",
    "    for raw_img_info in raw_image_infos:\n",
    "        image_infos.append(list(map(int, raw_img_info.split())))\n",
    "    image_infos = np.array(image_infos).reshape(-1,96,96,1)\n",
    "    return image_infos"
   ]
  },
  {
   "cell_type": "code",
   "execution_count": 81,
   "id": "8873fbc8",
   "metadata": {},
   "outputs": [],
   "source": [
    "def get_dataset_xy(is_train=True):\n",
    "    df = __load_dataframe(is_train)\n",
    "    y = df.iloc[:,:-1]\n",
    "    x = df.iloc[:,-1]\n",
    "    x = __convert_image_dataset(x)\n",
    "    return x, y.values"
   ]
  },
  {
   "cell_type": "code",
   "execution_count": 82,
   "id": "abb6b912",
   "metadata": {},
   "outputs": [],
   "source": [
    "def normalize_image(x):\n",
    "    x = x.astype(np.float32)/255.0\n",
    "    return x"
   ]
  },
  {
   "cell_type": "code",
   "execution_count": 97,
   "id": "def94c13",
   "metadata": {},
   "outputs": [],
   "source": [
    "def split_data(x, y, train_ratio=0.8):\n",
    "    row = x.shape[0]\n",
    "    indices = np.random.choice(row, row)\n",
    "    x = tf.gather(x, indices=indices).numpy()\n",
    "    y = tf.gather(y, indices=indices).numpy()\n",
    "\n",
    "    train_count = int(row * train_ratio)\n",
    "    valid_count = row - train_count\n",
    "    x0, x1 = tf.split(x, [train_count, valid_count])\n",
    "    y0, y1 = tf.split(y, [train_count, valid_count])\n",
    "    x = [x0, x1]\n",
    "    y = [y0, y1]\n",
    "    print(x0.shape, x1.shape, y0.shape, y1.shape,)\n",
    "    return x, y"
   ]
  },
  {
   "cell_type": "code",
   "execution_count": 84,
   "id": "cba9d165",
   "metadata": {},
   "outputs": [],
   "source": [
    "train_x, train_y = get_dataset_xy(is_train=True)"
   ]
  },
  {
   "cell_type": "code",
   "execution_count": 98,
   "id": "a1a6a4b9",
   "metadata": {
    "scrolled": true
   },
   "outputs": [
    {
     "ename": "AttributeError",
     "evalue": "'list' object has no attribute 'shape'",
     "output_type": "error",
     "traceback": [
      "\u001b[0;31m---------------------------------------------------------------------------\u001b[0m",
      "\u001b[0;31mAttributeError\u001b[0m                            Traceback (most recent call last)",
      "Input \u001b[0;32mIn [98]\u001b[0m, in \u001b[0;36m<cell line: 1>\u001b[0;34m()\u001b[0m\n\u001b[0;32m----> 1\u001b[0m train_x2, train_y2 \u001b[38;5;241m=\u001b[39m \u001b[43msplit_data\u001b[49m\u001b[43m(\u001b[49m\u001b[43mtrain_x\u001b[49m\u001b[43m,\u001b[49m\u001b[43m \u001b[49m\u001b[43mtrain_y\u001b[49m\u001b[43m)\u001b[49m\n",
      "Input \u001b[0;32mIn [97]\u001b[0m, in \u001b[0;36msplit_data\u001b[0;34m(x, y, train_ratio)\u001b[0m\n\u001b[1;32m     11\u001b[0m x \u001b[38;5;241m=\u001b[39m [x0, x1]\n\u001b[1;32m     12\u001b[0m y \u001b[38;5;241m=\u001b[39m [y0, y1]\n\u001b[0;32m---> 13\u001b[0m \u001b[38;5;28mprint\u001b[39m(\u001b[43mx\u001b[49m\u001b[38;5;241;43m.\u001b[39;49m\u001b[43mshape\u001b[49m, y\u001b[38;5;241m.\u001b[39mshape)\n\u001b[1;32m     14\u001b[0m \u001b[38;5;28;01mreturn\u001b[39;00m x, y\n",
      "\u001b[0;31mAttributeError\u001b[0m: 'list' object has no attribute 'shape'"
     ]
    }
   ],
   "source": [
    "train_x2, train_y2 = split_data(train_x, train_y)"
   ]
  },
  {
   "cell_type": "code",
   "execution_count": 91,
   "id": "4337a33a",
   "metadata": {
    "scrolled": false
   },
   "outputs": [
    {
     "data": {
      "text/plain": [
       "9216"
      ]
     },
     "execution_count": 91,
     "metadata": {},
     "output_type": "execute_result"
    }
   ],
   "source": [
    "(train_x2[0] == train_x[3841]).sum()"
   ]
  },
  {
   "cell_type": "code",
   "execution_count": 92,
   "id": "5a65c2e4",
   "metadata": {
    "scrolled": true
   },
   "outputs": [
    {
     "data": {
      "text/plain": [
       "8"
      ]
     },
     "execution_count": 92,
     "metadata": {},
     "output_type": "execute_result"
    }
   ],
   "source": [
    "(train_y[3841] == train_y2[0]).sum()"
   ]
  },
  {
   "cell_type": "code",
   "execution_count": 93,
   "id": "b740c862",
   "metadata": {
    "scrolled": true
   },
   "outputs": [
    {
     "data": {
      "text/plain": [
       "array([70.32257143, 38.63701714, 29.67905143, 38.63701714,         nan,\n",
       "               nan,         nan,         nan,         nan,         nan,\n",
       "               nan,         nan,         nan,         nan,         nan,\n",
       "               nan,         nan,         nan,         nan,         nan,\n",
       "       50.56011429, 62.12823429,         nan,         nan,         nan,\n",
       "               nan,         nan,         nan, 50.56011429, 73.68740571])"
      ]
     },
     "execution_count": 93,
     "metadata": {},
     "output_type": "execute_result"
    }
   ],
   "source": [
    "train_y[3841]"
   ]
  },
  {
   "cell_type": "code",
   "execution_count": 94,
   "id": "a3cc6d1e",
   "metadata": {},
   "outputs": [
    {
     "data": {
      "text/plain": [
       "array([70.32257143, 38.63701714, 29.67905143, 38.63701714,         nan,\n",
       "               nan,         nan,         nan,         nan,         nan,\n",
       "               nan,         nan,         nan,         nan,         nan,\n",
       "               nan,         nan,         nan,         nan,         nan,\n",
       "       50.56011429, 62.12823429,         nan,         nan,         nan,\n",
       "               nan,         nan,         nan, 50.56011429, 73.68740571])"
      ]
     },
     "execution_count": 94,
     "metadata": {},
     "output_type": "execute_result"
    }
   ],
   "source": [
    "train_y2[0]"
   ]
  },
  {
   "cell_type": "code",
   "execution_count": null,
   "id": "5cc15f53",
   "metadata": {},
   "outputs": [],
   "source": []
  }
 ],
 "metadata": {
  "kernelspec": {
   "display_name": "Python 3 (ipykernel)",
   "language": "python",
   "name": "python3"
  },
  "language_info": {
   "codemirror_mode": {
    "name": "ipython",
    "version": 3
   },
   "file_extension": ".py",
   "mimetype": "text/x-python",
   "name": "python",
   "nbconvert_exporter": "python",
   "pygments_lexer": "ipython3",
   "version": "3.10.5"
  }
 },
 "nbformat": 4,
 "nbformat_minor": 5
}
