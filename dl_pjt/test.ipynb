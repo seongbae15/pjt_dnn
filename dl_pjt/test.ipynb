{
 "cells": [
  {
   "cell_type": "code",
   "execution_count": 78,
   "id": "6b30dd06",
   "metadata": {},
   "outputs": [],
   "source": [
    "import tensorflow as tf\n",
    "import pandas as pd\n",
    "import numpy as np"
   ]
  },
  {
   "cell_type": "code",
   "execution_count": 79,
   "id": "c11dee69",
   "metadata": {},
   "outputs": [],
   "source": [
    "def __load_dataframe(is_train=True):\n",
    "    base_path=\"./data/facial-keypoints-detection/\"\n",
    "    if is_train:\n",
    "        file_name = \"training.csv\"\n",
    "    else:\n",
    "        file_name = \"test.csv\"\n",
    "    return pd.read_csv(base_path + file_name)"
   ]
  },
  {
   "cell_type": "code",
   "execution_count": 80,
   "id": "597cd5b4",
   "metadata": {},
   "outputs": [],
   "source": [
    "def __convert_image_dataset(raw_image_infos):\n",
    "    image_infos = []\n",
    "    for raw_img_info in raw_image_infos:\n",
    "        image_infos.append(list(map(int, raw_img_info.split())))\n",
    "    image_infos = np.array(image_infos).reshape(-1,96,96,1)\n",
    "    return image_infos"
   ]
  },
  {
   "cell_type": "code",
   "execution_count": 81,
   "id": "8873fbc8",
   "metadata": {},
   "outputs": [],
   "source": [
    "def get_dataset_xy(is_train=True):\n",
    "    df = __load_dataframe(is_train)\n",
    "    y = df.iloc[:,:-1]\n",
    "    x = df.iloc[:,-1]\n",
    "    x = __convert_image_dataset(x)\n",
    "    return x, y.values"
   ]
  },
  {
   "cell_type": "code",
   "execution_count": 82,
   "id": "abb6b912",
   "metadata": {},
   "outputs": [],
   "source": [
    "def normalize_image(x):\n",
    "    x = x.astype(np.float32)/255.0\n",
    "    return x"
   ]
  },
  {
   "cell_type": "code",
   "execution_count": 99,
   "id": "def94c13",
   "metadata": {},
   "outputs": [],
   "source": [
    "def split_data(x, y, train_ratio=0.8):\n",
    "    row = x.shape[0]\n",
    "    indices = np.random.choice(row, row)\n",
    "    x = tf.gather(x, indices=indices).numpy()\n",
    "    y = tf.gather(y, indices=indices).numpy()\n",
    "\n",
    "    train_count = int(row * train_ratio)\n",
    "    valid_count = row - train_count\n",
    "    x0, x1 = tf.split(x, [train_count, valid_count])\n",
    "    y0, y1 = tf.split(y, [train_count, valid_count])\n",
    "    x = [x0, x1]\n",
    "    y = [y0, y1]\n",
    "    print(x0.shape, x1.shape, y0.shape, y1.shape,)\n",
    "    return x, y"
   ]
  },
  {
   "cell_type": "code",
   "execution_count": 84,
   "id": "cba9d165",
   "metadata": {},
   "outputs": [],
   "source": [
    "train_x, train_y = get_dataset_xy(is_train=True)"
   ]
  },
  {
   "cell_type": "code",
   "execution_count": 100,
   "id": "466c6d60",
   "metadata": {
    "scrolled": true
   },
   "outputs": [
    {
     "name": "stdout",
     "output_type": "stream",
     "text": [
      "(5639, 96, 96, 1) (1410, 96, 96, 1) (5639, 30) (1410, 30)\n"
     ]
    }
   ],
   "source": [
    "train_x2, train_y2 = split_data(train_x, train_y)"
   ]
  },
  {
   "cell_type": "code",
   "execution_count": 91,
   "id": "36cfbcc4",
   "metadata": {
    "scrolled": false
   },
   "outputs": [
    {
     "data": {
      "text/plain": [
       "9216"
      ]
     },
     "execution_count": 91,
     "metadata": {},
     "output_type": "execute_result"
    }
   ],
   "source": [
    "(train_x2[0] == train_x[3841]).sum()"
   ]
  },
  {
   "cell_type": "code",
   "execution_count": 92,
   "id": "1b5fbd83",
   "metadata": {
    "scrolled": true
   },
   "outputs": [
    {
     "data": {
      "text/plain": [
       "8"
      ]
     },
     "execution_count": 92,
     "metadata": {},
     "output_type": "execute_result"
    }
   ],
   "source": [
    "(train_y[3841] == train_y2[0]).sum()"
   ]
  },
  {
   "cell_type": "code",
   "execution_count": 93,
   "id": "a844bbcd",
   "metadata": {
    "scrolled": true
   },
   "outputs": [
    {
     "data": {
      "text/plain": [
       "array([70.32257143, 38.63701714, 29.67905143, 38.63701714,         nan,\n",
       "               nan,         nan,         nan,         nan,         nan,\n",
       "               nan,         nan,         nan,         nan,         nan,\n",
       "               nan,         nan,         nan,         nan,         nan,\n",
       "       50.56011429, 62.12823429,         nan,         nan,         nan,\n",
       "               nan,         nan,         nan, 50.56011429, 73.68740571])"
      ]
     },
     "execution_count": 93,
     "metadata": {},
     "output_type": "execute_result"
    }
   ],
   "source": [
    "train_y[3841]"
   ]
  },
  {
   "cell_type": "code",
   "execution_count": 94,
   "id": "44588944",
   "metadata": {},
   "outputs": [
    {
     "data": {
      "text/plain": [
       "array([70.32257143, 38.63701714, 29.67905143, 38.63701714,         nan,\n",
       "               nan,         nan,         nan,         nan,         nan,\n",
       "               nan,         nan,         nan,         nan,         nan,\n",
       "               nan,         nan,         nan,         nan,         nan,\n",
       "       50.56011429, 62.12823429,         nan,         nan,         nan,\n",
       "               nan,         nan,         nan, 50.56011429, 73.68740571])"
      ]
     },
     "execution_count": 94,
     "metadata": {},
     "output_type": "execute_result"
    }
   ],
   "source": [
    "train_y2[0]"
   ]
  },
  {
   "cell_type": "code",
   "execution_count": null,
   "id": "f41486d7",
   "metadata": {},
   "outputs": [],
   "source": []
  }
 ],
 "metadata": {
  "kernelspec": {
   "display_name": "Python 3 (ipykernel)",
   "language": "python",
   "name": "python3"
  },
  "language_info": {
   "codemirror_mode": {
    "name": "ipython",
    "version": 3
   },
   "file_extension": ".py",
   "mimetype": "text/x-python",
   "name": "python",
   "nbconvert_exporter": "python",
   "pygments_lexer": "ipython3",
   "version": "3.10.5"
  }
 },
 "nbformat": 4,
 "nbformat_minor": 5
}
