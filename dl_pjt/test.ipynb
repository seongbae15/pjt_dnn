{
 "cells": [
  {
   "cell_type": "code",
   "execution_count": 1,
   "id": "6b30dd06",
   "metadata": {},
   "outputs": [],
   "source": [
    "import tensorflow as tf\n",
    "import pandas as pd\n",
    "import numpy as np"
   ]
  },
  {
   "cell_type": "code",
   "execution_count": 57,
   "id": "65e42c53",
   "metadata": {},
   "outputs": [
    {
     "data": {
      "text/plain": [
       "'2.8.1'"
      ]
     },
     "execution_count": 57,
     "metadata": {},
     "output_type": "execute_result"
    }
   ],
   "source": [
    "tf.__version__"
   ]
  },
  {
   "cell_type": "code",
   "execution_count": 58,
   "id": "2193aeb2",
   "metadata": {},
   "outputs": [
    {
     "data": {
      "text/plain": [
       "'2.8.0'"
      ]
     },
     "execution_count": 58,
     "metadata": {},
     "output_type": "execute_result"
    }
   ],
   "source": [
    "import tensorflow\n",
    "tensorflow.keras.__version__"
   ]
  },
  {
   "cell_type": "code",
   "execution_count": 2,
   "id": "c11dee69",
   "metadata": {},
   "outputs": [],
   "source": [
    "def __load_dataframe(is_train=True):\n",
    "    base_path=\"./data/facial-keypoints-detection/\"\n",
    "    if is_train:\n",
    "        file_name = \"training.csv\"\n",
    "    else:\n",
    "        file_name = \"test.csv\"\n",
    "    return pd.read_csv(base_path + file_name)"
   ]
  },
  {
   "cell_type": "code",
   "execution_count": 3,
   "id": "597cd5b4",
   "metadata": {},
   "outputs": [],
   "source": [
    "def __convert_image_dataset(raw_image_infos):\n",
    "    image_infos = []\n",
    "    for raw_img_info in raw_image_infos:\n",
    "        image_infos.append(list(map(int, raw_img_info.split())))\n",
    "    image_infos = np.array(image_infos).reshape(-1,96,96,1)\n",
    "    return image_infos"
   ]
  },
  {
   "cell_type": "code",
   "execution_count": 4,
   "id": "8873fbc8",
   "metadata": {},
   "outputs": [],
   "source": [
    "def get_dataset_xy(is_train=True):\n",
    "    df = __load_dataframe(is_train)\n",
    "    y = df.iloc[:,:-1]\n",
    "    x = df.iloc[:,-1]\n",
    "    x = __convert_image_dataset(x)\n",
    "    return x, y.values"
   ]
  },
  {
   "cell_type": "code",
   "execution_count": 5,
   "id": "abb6b912",
   "metadata": {},
   "outputs": [],
   "source": [
    "def normalize_image(x):\n",
    "    x = x.astype(np.float32)/255.0\n",
    "    return x"
   ]
  },
  {
   "cell_type": "code",
   "execution_count": 6,
   "id": "def94c13",
   "metadata": {},
   "outputs": [],
   "source": [
    "def split_data(x, y, train_ratio=0.8):\n",
    "    row = x.shape[0]\n",
    "    indices = np.random.choice(row, row)\n",
    "    x = tf.gather(x, indices=indices).numpy()\n",
    "    y = tf.gather(y, indices=indices).numpy()\n",
    "\n",
    "    train_count = int(row * train_ratio)\n",
    "    valid_count = row - train_count\n",
    "    x0, x1 = tf.split(x, [train_count, valid_count])\n",
    "    y0, y1 = tf.split(y, [train_count, valid_count])\n",
    "    x = [x0, x1]\n",
    "    y = [y0, y1]\n",
    "    print(x0.shape, x1.shape, y0.shape, y1.shape,)\n",
    "    return x, y"
   ]
  },
  {
   "cell_type": "code",
   "execution_count": 7,
   "id": "cba9d165",
   "metadata": {},
   "outputs": [],
   "source": [
    "train_x, train_y = get_dataset_xy(is_train=True)"
   ]
  },
  {
   "cell_type": "code",
   "execution_count": 8,
   "id": "4de2c101",
   "metadata": {},
   "outputs": [],
   "source": [
    "train_x = normalize_image(train_x)"
   ]
  },
  {
   "cell_type": "code",
   "execution_count": 9,
   "id": "2ac4c5f8",
   "metadata": {
    "scrolled": true
   },
   "outputs": [
    {
     "name": "stdout",
     "output_type": "stream",
     "text": [
      "(5639, 96, 96, 1) (1410, 96, 96, 1) (5639, 30) (1410, 30)\n"
     ]
    }
   ],
   "source": [
    "train_x2, train_y2 = split_data(train_x, train_y)"
   ]
  },
  {
   "cell_type": "code",
   "execution_count": 69,
   "id": "7c1848e3",
   "metadata": {},
   "outputs": [],
   "source": [
    "from tensorflow.keras.models import Sequential\n",
    "from tensorflow.keras.layers import Dense, Flatten\n",
    "from tensorflow.keras.layers import Conv2D, MaxPool2D\n",
    "\n",
    "import numpy as np\n",
    "\n",
    "# class Block():\n",
    "#     def __init__(self, input_size, conv_filters, kernel_size=(3, 3), conv_stride=(1, 1),\n",
    "#                 pool_size=(2, 2), pool_stride=(2, 2)):\n",
    "#         self.block = Sequential([\n",
    "#             Conv2D(input_shape=input_size, filters=conv_filters[0], kernel_size=kernel_size,\n",
    "#                     strides=conv_stride, padding=\"same\", activation=\"relu\"),\n",
    "#             Conv2D(filters=conv_filters[1], kernel_size=(3, 3),\n",
    "#                     strides=conv_stride, padding=\"same\", activation=\"relu\"),\n",
    "#             MaxPool2D(pool_size=pool_size, strides=pool_stride),\n",
    "#         ])\n",
    "\n",
    "class Facial_Kepoints_Detect():\n",
    "    def __init__(self, input_size, output_size,\n",
    "                    init_conv_filters, kernel_size=(3, 3), conv_stride=(1, 1),\n",
    "                    pool_size=(2, 2), pool_stride=(2, 2)):\n",
    "        last_input_size = input_size\n",
    "        # for i in range(2):\n",
    "        #     filters = (init_conv_filters * (2 * i + 1), init_conv_filters * (2 * i + 2))\n",
    "        #     blocks += [Block(last_input_size, conv_filters=filters)]\n",
    "        #     last_input_size = list((np.array(last_input_size[:2]) / pool_size[0]).astype(\"int64\")) + [filters[-1]]\n",
    "        #     print(filters, last_input_size)\n",
    "#         last_input_size = last_input_size[0]*last_input_size[1] * filters[-1]\n",
    "        self.layers = Sequential([\n",
    "                                Conv2D(input_shape=input_size, filters=init_conv_filters, kernel_size=kernel_size,\n",
    "                                        strides=conv_stride, padding=\"same\", activation=\"relu\"),\n",
    "                                Conv2D(filters=init_conv_filters*2, kernel_size=kernel_size,\n",
    "                                        strides=conv_stride, padding=\"same\", activation=\"relu\"),\n",
    "                                MaxPool2D(pool_size=pool_size, strides=pool_stride),\n",
    "                                Conv2D(filters=init_conv_filters*3, kernel_size=kernel_size,\n",
    "                                        strides=conv_stride, padding=\"same\", activation=\"relu\"),\n",
    "                                Conv2D(filters=init_conv_filters*4, kernel_size=kernel_size,\n",
    "                                        strides=conv_stride, padding=\"same\", activation=\"relu\"),\n",
    "                                MaxPool2D(pool_size=pool_size, strides=pool_stride),\n",
    "                                Flatten(),\n",
    "                                Dense(24*24*32, activation=\"relu\"),\n",
    "                                Dense(output_size, activation=\"relu\")\n",
    "        ])\n",
    "        self.layers.summary()\n",
    "\n"
   ]
  },
  {
   "cell_type": "code",
   "execution_count": 70,
   "id": "76e48a3f",
   "metadata": {
    "scrolled": false
   },
   "outputs": [
    {
     "name": "stdout",
     "output_type": "stream",
     "text": [
      "Model: \"sequential_26\"\n",
      "_________________________________________________________________\n",
      " Layer (type)                Output Shape              Param #   \n",
      "=================================================================\n",
      " conv2d_56 (Conv2D)          (None, 96, 96, 8)         80        \n",
      "                                                                 \n",
      " conv2d_57 (Conv2D)          (None, 96, 96, 16)        1168      \n",
      "                                                                 \n",
      " max_pooling2d_28 (MaxPoolin  (None, 48, 48, 16)       0         \n",
      " g2D)                                                            \n",
      "                                                                 \n",
      " conv2d_58 (Conv2D)          (None, 48, 48, 24)        3480      \n",
      "                                                                 \n",
      " conv2d_59 (Conv2D)          (None, 48, 48, 32)        6944      \n",
      "                                                                 \n",
      " max_pooling2d_29 (MaxPoolin  (None, 24, 24, 32)       0         \n",
      " g2D)                                                            \n",
      "                                                                 \n",
      " flatten_10 (Flatten)        (None, 18432)             0         \n",
      "                                                                 \n",
      " dense_18 (Dense)            (None, 18432)             339757056 \n",
      "                                                                 \n",
      " dense_19 (Dense)            (None, 30)                552990    \n",
      "                                                                 \n",
      "=================================================================\n",
      "Total params: 340,321,718\n",
      "Trainable params: 340,321,718\n",
      "Non-trainable params: 0\n",
      "_________________________________________________________________\n"
     ]
    }
   ],
   "source": [
    "model = Facial_Kepoints_Detect(input_size=[96,96,1], output_size=30, init_conv_filters=8,)\n"
   ]
  },
  {
   "cell_type": "code",
   "execution_count": 39,
   "id": "01937112",
   "metadata": {},
   "outputs": [
    {
     "data": {
      "text/plain": [
       "((8, 16), 16)"
      ]
     },
     "execution_count": 39,
     "metadata": {},
     "output_type": "execute_result"
    }
   ],
   "source": [
    "filters = (8 * (2 * 0 + 1), 8 * (2 * 0 + 2))\n",
    "filters, filters[-1]"
   ]
  },
  {
   "cell_type": "code",
   "execution_count": 40,
   "id": "ce78e921",
   "metadata": {},
   "outputs": [],
   "source": [
    "last_input_size = [96,96,1]\n",
    "pool_size = (2,2)"
   ]
  },
  {
   "cell_type": "code",
   "execution_count": 41,
   "id": "eca0416e",
   "metadata": {},
   "outputs": [
    {
     "data": {
      "text/plain": [
       "dtype('int64')"
      ]
     },
     "execution_count": 41,
     "metadata": {},
     "output_type": "execute_result"
    }
   ],
   "source": [
    "np.array(last_input_size).dtype"
   ]
  },
  {
   "cell_type": "code",
   "execution_count": 42,
   "id": "4f24693e",
   "metadata": {},
   "outputs": [
    {
     "data": {
      "text/plain": [
       "[48, 48, 16]"
      ]
     },
     "execution_count": 42,
     "metadata": {},
     "output_type": "execute_result"
    }
   ],
   "source": [
    "last_input_size = list((np.array(last_input_size[:2]) / pool_size[0]).astype(\"int64\")) + [filters[-1]]\n",
    "last_input_size"
   ]
  },
  {
   "cell_type": "code",
   "execution_count": null,
   "id": "fdd94e9f",
   "metadata": {},
   "outputs": [],
   "source": []
  },
  {
   "cell_type": "code",
   "execution_count": null,
   "id": "539e37b3",
   "metadata": {},
   "outputs": [],
   "source": []
  },
  {
   "cell_type": "code",
   "execution_count": null,
   "id": "21ff09b3",
   "metadata": {},
   "outputs": [],
   "source": []
  }
 ],
 "metadata": {
  "kernelspec": {
   "display_name": "Python 3 (ipykernel)",
   "language": "python",
   "name": "python3"
  },
  "language_info": {
   "codemirror_mode": {
    "name": "ipython",
    "version": 3
   },
   "file_extension": ".py",
   "mimetype": "text/x-python",
   "name": "python",
   "nbconvert_exporter": "python",
   "pygments_lexer": "ipython3",
   "version": "3.10.5"
  }
 },
 "nbformat": 4,
 "nbformat_minor": 5
}
