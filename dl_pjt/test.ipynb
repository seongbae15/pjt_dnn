{
 "cells": [
  {
   "cell_type": "code",
   "execution_count": 1,
   "id": "6b30dd06",
   "metadata": {},
   "outputs": [],
   "source": [
    "import tensorflow as tf\n",
    "import pandas as pd\n",
    "import numpy as np"
   ]
  },
  {
   "cell_type": "code",
   "execution_count": 2,
   "id": "65e42c53",
   "metadata": {},
   "outputs": [
    {
     "data": {
      "text/plain": [
       "'2.9.1'"
      ]
     },
     "execution_count": 2,
     "metadata": {},
     "output_type": "execute_result"
    }
   ],
   "source": [
    "tf.__version__"
   ]
  },
  {
   "cell_type": "code",
   "execution_count": 3,
   "id": "2193aeb2",
   "metadata": {},
   "outputs": [
    {
     "data": {
      "text/plain": [
       "'2.9.0'"
      ]
     },
     "execution_count": 3,
     "metadata": {},
     "output_type": "execute_result"
    }
   ],
   "source": [
    "import tensorflow\n",
    "tensorflow.keras.__version__"
   ]
  },
  {
   "cell_type": "code",
   "execution_count": 4,
   "id": "c11dee69",
   "metadata": {},
   "outputs": [],
   "source": [
    "def __load_dataframe(is_train=True):\n",
    "    base_path=\"./data/facial-keypoints-detection/\"\n",
    "    if is_train:\n",
    "        file_name = \"training.csv\"\n",
    "    else:\n",
    "        file_name = \"test.csv\"\n",
    "    return pd.read_csv(base_path + file_name)"
   ]
  },
  {
   "cell_type": "code",
   "execution_count": 5,
   "id": "597cd5b4",
   "metadata": {},
   "outputs": [],
   "source": [
    "def __convert_image_dataset(raw_image_infos):\n",
    "    image_infos = []\n",
    "    for raw_img_info in raw_image_infos:\n",
    "        image_infos.append(list(map(int, raw_img_info.split())))\n",
    "    image_infos = np.array(image_infos).reshape(-1,96,96,1)\n",
    "    return image_infos"
   ]
  },
  {
   "cell_type": "code",
   "execution_count": 6,
   "id": "3a04ed81",
   "metadata": {},
   "outputs": [],
   "source": [
    "def fill_null_data(df, fill_value):\n",
    "    df = df.fillna(fill_value)\n",
    "    return df"
   ]
  },
  {
   "cell_type": "code",
   "execution_count": 11,
   "id": "8873fbc8",
   "metadata": {},
   "outputs": [],
   "source": [
    "def get_dataset_xy(is_train=True):\n",
    "    df = __load_dataframe(is_train)\n",
    "    y = df.iloc[:,:-1]\n",
    "    x = df.iloc[:,-1]\n",
    "    print(y)\n",
    "    y = fill_null_data(y, -100.0)\n",
    "    x = __convert_image_dataset(x)\n",
    "    print(y)\n",
    "    return x, y.values"
   ]
  },
  {
   "cell_type": "code",
   "execution_count": 8,
   "id": "abb6b912",
   "metadata": {},
   "outputs": [],
   "source": [
    "def normalize_image(x):\n",
    "    x = x.astype(np.float32)/255.0\n",
    "    return x"
   ]
  },
  {
   "cell_type": "code",
   "execution_count": 9,
   "id": "def94c13",
   "metadata": {},
   "outputs": [],
   "source": [
    "def split_data(x, y, train_ratio=0.8):\n",
    "    row = x.shape[0]\n",
    "    indices = np.random.choice(row, row)\n",
    "    x = tf.gather(x, indices=indices).numpy()\n",
    "    y = tf.gather(y, indices=indices).numpy()\n",
    "\n",
    "    train_count = int(row * train_ratio)\n",
    "    valid_count = row - train_count\n",
    "    x0, x1 = tf.split(x, [train_count, valid_count])\n",
    "    y0, y1 = tf.split(y, [train_count, valid_count])\n",
    "    x = [x0, x1]\n",
    "    y = [y0, y1]\n",
    "    print(x0.shape, x1.shape, y0.shape, y1.shape,)\n",
    "    return x, y"
   ]
  },
  {
   "cell_type": "code",
   "execution_count": 12,
   "id": "cba9d165",
   "metadata": {},
   "outputs": [
    {
     "name": "stdout",
     "output_type": "stream",
     "text": [
      "      left_eye_center_x  left_eye_center_y  right_eye_center_x  \\\n",
      "0             66.033564          39.002274           30.227008   \n",
      "1             64.332936          34.970077           29.949277   \n",
      "2             65.057053          34.909642           30.903789   \n",
      "3             65.225739          37.261774           32.023096   \n",
      "4             66.725301          39.621261           32.244810   \n",
      "...                 ...                ...                 ...   \n",
      "7044          67.402546          31.842551           29.746749   \n",
      "7045          66.134400          38.365501           30.478626   \n",
      "7046          66.690732          36.845221           31.666420   \n",
      "7047          70.965082          39.853666           30.543285   \n",
      "7048          66.938311          43.424510           31.096059   \n",
      "\n",
      "      right_eye_center_y  left_eye_inner_corner_x  left_eye_inner_corner_y  \\\n",
      "0              36.421678                59.582075                39.647423   \n",
      "1              33.448715                58.856170                35.274349   \n",
      "2              34.909642                59.412000                36.320968   \n",
      "3              37.261774                60.003339                39.127179   \n",
      "4              38.042032                58.565890                39.621261   \n",
      "...                  ...                      ...                      ...   \n",
      "7044           38.632942                      NaN                      NaN   \n",
      "7045           39.950198                      NaN                      NaN   \n",
      "7046           39.685042                      NaN                      NaN   \n",
      "7047           40.772339                      NaN                      NaN   \n",
      "7048           39.528604                      NaN                      NaN   \n",
      "\n",
      "      left_eye_outer_corner_x  left_eye_outer_corner_y  \\\n",
      "0                   73.130346                39.969997   \n",
      "1                   70.722723                36.187166   \n",
      "2                   70.984421                36.320968   \n",
      "3                   72.314713                38.380967   \n",
      "4                   72.515926                39.884466   \n",
      "...                       ...                      ...   \n",
      "7044                      NaN                      NaN   \n",
      "7045                      NaN                      NaN   \n",
      "7046                      NaN                      NaN   \n",
      "7047                      NaN                      NaN   \n",
      "7048                      NaN                      NaN   \n",
      "\n",
      "      right_eye_inner_corner_x  right_eye_inner_corner_y  ...  nose_tip_x  \\\n",
      "0                    36.356571                 37.389402  ...   44.420571   \n",
      "1                    36.034723                 34.361532  ...   48.206298   \n",
      "2                    37.678105                 36.320968  ...   47.557263   \n",
      "3                    37.618643                 38.754115  ...   51.885078   \n",
      "4                    36.982380                 39.094852  ...   43.299534   \n",
      "...                        ...                       ...  ...         ...   \n",
      "7044                       NaN                       NaN  ...   48.265961   \n",
      "7045                       NaN                       NaN  ...   47.910346   \n",
      "7046                       NaN                       NaN  ...   49.462572   \n",
      "7047                       NaN                       NaN  ...   50.754202   \n",
      "7048                       NaN                       NaN  ...   47.069250   \n",
      "\n",
      "      nose_tip_y  mouth_left_corner_x  mouth_left_corner_y  \\\n",
      "0      57.066803            61.195308            79.970165   \n",
      "1      55.660936            56.421447            76.352000   \n",
      "2      53.538947            60.822947            73.014316   \n",
      "3      54.166539            65.598887            72.703722   \n",
      "4      64.889521            60.671411            77.523239   \n",
      "...          ...                  ...                  ...   \n",
      "7044   67.029093                  NaN                  NaN   \n",
      "7045   66.626011                  NaN                  NaN   \n",
      "7046   67.515161                  NaN                  NaN   \n",
      "7047   66.724988                  NaN                  NaN   \n",
      "7048   73.033339                  NaN                  NaN   \n",
      "\n",
      "      mouth_right_corner_x  mouth_right_corner_y  mouth_center_top_lip_x  \\\n",
      "0                28.614496             77.388992               43.312602   \n",
      "1                35.122383             76.047660               46.684596   \n",
      "2                33.726316             72.732000               47.274947   \n",
      "3                37.245496             74.195478               50.303165   \n",
      "4                31.191755             76.997301               44.962748   \n",
      "...                    ...                   ...                     ...   \n",
      "7044                   NaN                   NaN                     NaN   \n",
      "7045                   NaN                   NaN                     NaN   \n",
      "7046                   NaN                   NaN                     NaN   \n",
      "7047                   NaN                   NaN                     NaN   \n",
      "7048                   NaN                   NaN                     NaN   \n",
      "\n",
      "      mouth_center_top_lip_y  mouth_center_bottom_lip_x  \\\n",
      "0                  72.935459                  43.130707   \n",
      "1                  70.266553                  45.467915   \n",
      "2                  70.191789                  47.274947   \n",
      "3                  70.091687                  51.561183   \n",
      "4                  73.707387                  44.227141   \n",
      "...                      ...                        ...   \n",
      "7044                     NaN                  50.426637   \n",
      "7045                     NaN                  50.287397   \n",
      "7046                     NaN                  49.462572   \n",
      "7047                     NaN                  50.065186   \n",
      "7048                     NaN                  45.900480   \n",
      "\n",
      "      mouth_center_bottom_lip_y  \n",
      "0                     84.485774  \n",
      "1                     85.480170  \n",
      "2                     78.659368  \n",
      "3                     78.268383  \n",
      "4                     86.871166  \n",
      "...                         ...  \n",
      "7044                  79.683921  \n",
      "7045                  77.983023  \n",
      "7046                  78.117120  \n",
      "7047                  79.586447  \n",
      "7048                  82.773096  \n",
      "\n",
      "[7049 rows x 30 columns]\n",
      "      left_eye_center_x  left_eye_center_y  right_eye_center_x  \\\n",
      "0             66.033564          39.002274           30.227008   \n",
      "1             64.332936          34.970077           29.949277   \n",
      "2             65.057053          34.909642           30.903789   \n",
      "3             65.225739          37.261774           32.023096   \n",
      "4             66.725301          39.621261           32.244810   \n",
      "...                 ...                ...                 ...   \n",
      "7044          67.402546          31.842551           29.746749   \n",
      "7045          66.134400          38.365501           30.478626   \n",
      "7046          66.690732          36.845221           31.666420   \n",
      "7047          70.965082          39.853666           30.543285   \n",
      "7048          66.938311          43.424510           31.096059   \n",
      "\n",
      "      right_eye_center_y  left_eye_inner_corner_x  left_eye_inner_corner_y  \\\n",
      "0              36.421678                59.582075                39.647423   \n",
      "1              33.448715                58.856170                35.274349   \n",
      "2              34.909642                59.412000                36.320968   \n",
      "3              37.261774                60.003339                39.127179   \n",
      "4              38.042032                58.565890                39.621261   \n",
      "...                  ...                      ...                      ...   \n",
      "7044           38.632942              -100.000000              -100.000000   \n",
      "7045           39.950198              -100.000000              -100.000000   \n",
      "7046           39.685042              -100.000000              -100.000000   \n",
      "7047           40.772339              -100.000000              -100.000000   \n",
      "7048           39.528604              -100.000000              -100.000000   \n",
      "\n",
      "      left_eye_outer_corner_x  left_eye_outer_corner_y  \\\n",
      "0                   73.130346                39.969997   \n",
      "1                   70.722723                36.187166   \n",
      "2                   70.984421                36.320968   \n",
      "3                   72.314713                38.380967   \n",
      "4                   72.515926                39.884466   \n",
      "...                       ...                      ...   \n",
      "7044              -100.000000              -100.000000   \n",
      "7045              -100.000000              -100.000000   \n",
      "7046              -100.000000              -100.000000   \n",
      "7047              -100.000000              -100.000000   \n",
      "7048              -100.000000              -100.000000   \n",
      "\n",
      "      right_eye_inner_corner_x  right_eye_inner_corner_y  ...  nose_tip_x  \\\n",
      "0                    36.356571                 37.389402  ...   44.420571   \n",
      "1                    36.034723                 34.361532  ...   48.206298   \n",
      "2                    37.678105                 36.320968  ...   47.557263   \n",
      "3                    37.618643                 38.754115  ...   51.885078   \n",
      "4                    36.982380                 39.094852  ...   43.299534   \n",
      "...                        ...                       ...  ...         ...   \n",
      "7044               -100.000000               -100.000000  ...   48.265961   \n",
      "7045               -100.000000               -100.000000  ...   47.910346   \n",
      "7046               -100.000000               -100.000000  ...   49.462572   \n",
      "7047               -100.000000               -100.000000  ...   50.754202   \n",
      "7048               -100.000000               -100.000000  ...   47.069250   \n",
      "\n",
      "      nose_tip_y  mouth_left_corner_x  mouth_left_corner_y  \\\n",
      "0      57.066803            61.195308            79.970165   \n",
      "1      55.660936            56.421447            76.352000   \n",
      "2      53.538947            60.822947            73.014316   \n",
      "3      54.166539            65.598887            72.703722   \n",
      "4      64.889521            60.671411            77.523239   \n",
      "...          ...                  ...                  ...   \n",
      "7044   67.029093          -100.000000          -100.000000   \n",
      "7045   66.626011          -100.000000          -100.000000   \n",
      "7046   67.515161          -100.000000          -100.000000   \n",
      "7047   66.724988          -100.000000          -100.000000   \n",
      "7048   73.033339          -100.000000          -100.000000   \n",
      "\n",
      "      mouth_right_corner_x  mouth_right_corner_y  mouth_center_top_lip_x  \\\n",
      "0                28.614496             77.388992               43.312602   \n",
      "1                35.122383             76.047660               46.684596   \n",
      "2                33.726316             72.732000               47.274947   \n",
      "3                37.245496             74.195478               50.303165   \n",
      "4                31.191755             76.997301               44.962748   \n",
      "...                    ...                   ...                     ...   \n",
      "7044           -100.000000           -100.000000             -100.000000   \n",
      "7045           -100.000000           -100.000000             -100.000000   \n",
      "7046           -100.000000           -100.000000             -100.000000   \n",
      "7047           -100.000000           -100.000000             -100.000000   \n",
      "7048           -100.000000           -100.000000             -100.000000   \n",
      "\n",
      "      mouth_center_top_lip_y  mouth_center_bottom_lip_x  \\\n",
      "0                  72.935459                  43.130707   \n",
      "1                  70.266553                  45.467915   \n",
      "2                  70.191789                  47.274947   \n",
      "3                  70.091687                  51.561183   \n",
      "4                  73.707387                  44.227141   \n",
      "...                      ...                        ...   \n",
      "7044             -100.000000                  50.426637   \n",
      "7045             -100.000000                  50.287397   \n",
      "7046             -100.000000                  49.462572   \n",
      "7047             -100.000000                  50.065186   \n",
      "7048             -100.000000                  45.900480   \n",
      "\n",
      "      mouth_center_bottom_lip_y  \n",
      "0                     84.485774  \n",
      "1                     85.480170  \n",
      "2                     78.659368  \n",
      "3                     78.268383  \n",
      "4                     86.871166  \n",
      "...                         ...  \n",
      "7044                  79.683921  \n",
      "7045                  77.983023  \n",
      "7046                  78.117120  \n",
      "7047                  79.586447  \n",
      "7048                  82.773096  \n",
      "\n",
      "[7049 rows x 30 columns]\n"
     ]
    }
   ],
   "source": [
    "train_x, train_y = get_dataset_xy(is_train=True)"
   ]
  },
  {
   "cell_type": "code",
   "execution_count": 13,
   "id": "5fe9cb03",
   "metadata": {},
   "outputs": [
    {
     "data": {
      "text/plain": [
       "array([[  66.03356391,   39.00227368,   30.22700752, ...,   72.93545865,\n",
       "          43.13070677,   84.48577444],\n",
       "       [  64.33293617,   34.9700766 ,   29.9492766 , ...,   70.26655319,\n",
       "          45.46791489,   85.48017021],\n",
       "       [  65.05705263,   34.90964211,   30.90378947, ...,   70.19178947,\n",
       "          47.27494737,   78.65936842],\n",
       "       ...,\n",
       "       [  66.69073171,   36.84522146,   31.66641951, ..., -100.        ,\n",
       "          49.46257171,   78.11712   ],\n",
       "       [  70.96508235,   39.85366588,   30.54328471, ..., -100.        ,\n",
       "          50.06518588,   79.58644706],\n",
       "       [  66.93831111,   43.42450963,   31.09605926, ..., -100.        ,\n",
       "          45.90048   ,   82.7730963 ]])"
      ]
     },
     "execution_count": 13,
     "metadata": {},
     "output_type": "execute_result"
    }
   ],
   "source": [
    "train_y"
   ]
  },
  {
   "cell_type": "code",
   "execution_count": 8,
   "id": "4de2c101",
   "metadata": {},
   "outputs": [],
   "source": [
    "train_x = normalize_image(train_x)"
   ]
  },
  {
   "cell_type": "code",
   "execution_count": 9,
   "id": "2ac4c5f8",
   "metadata": {
    "scrolled": true
   },
   "outputs": [
    {
     "name": "stdout",
     "output_type": "stream",
     "text": [
      "(5639, 96, 96, 1) (1410, 96, 96, 1) (5639, 30) (1410, 30)\n"
     ]
    }
   ],
   "source": [
    "train_x2, train_y2 = split_data(train_x, train_y)"
   ]
  },
  {
   "cell_type": "code",
   "execution_count": 69,
   "id": "7c1848e3",
   "metadata": {},
   "outputs": [],
   "source": [
    "from tensorflow.keras.models import Sequential\n",
    "from tensorflow.keras.layers import Dense, Flatten\n",
    "from tensorflow.keras.layers import Conv2D, MaxPool2D\n",
    "\n",
    "import numpy as np\n",
    "\n",
    "# class Block():\n",
    "#     def __init__(self, input_size, conv_filters, kernel_size=(3, 3), conv_stride=(1, 1),\n",
    "#                 pool_size=(2, 2), pool_stride=(2, 2)):\n",
    "#         self.block = Sequential([\n",
    "#             Conv2D(input_shape=input_size, filters=conv_filters[0], kernel_size=kernel_size,\n",
    "#                     strides=conv_stride, padding=\"same\", activation=\"relu\"),\n",
    "#             Conv2D(filters=conv_filters[1], kernel_size=(3, 3),\n",
    "#                     strides=conv_stride, padding=\"same\", activation=\"relu\"),\n",
    "#             MaxPool2D(pool_size=pool_size, strides=pool_stride),\n",
    "#         ])\n",
    "\n",
    "class Facial_Kepoints_Detect():\n",
    "    def __init__(self, input_size, output_size,\n",
    "                    init_conv_filters, kernel_size=(3, 3), conv_stride=(1, 1),\n",
    "                    pool_size=(2, 2), pool_stride=(2, 2)):\n",
    "        last_input_size = input_size\n",
    "        # for i in range(2):\n",
    "        #     filters = (init_conv_filters * (2 * i + 1), init_conv_filters * (2 * i + 2))\n",
    "        #     blocks += [Block(last_input_size, conv_filters=filters)]\n",
    "        #     last_input_size = list((np.array(last_input_size[:2]) / pool_size[0]).astype(\"int64\")) + [filters[-1]]\n",
    "        #     print(filters, last_input_size)\n",
    "#         last_input_size = last_input_size[0]*last_input_size[1] * filters[-1]\n",
    "        self.layers = Sequential([\n",
    "                                Conv2D(input_shape=input_size, filters=init_conv_filters, kernel_size=kernel_size,\n",
    "                                        strides=conv_stride, padding=\"same\", activation=\"relu\"),\n",
    "                                Conv2D(filters=init_conv_filters*2, kernel_size=kernel_size,\n",
    "                                        strides=conv_stride, padding=\"same\", activation=\"relu\"),\n",
    "                                MaxPool2D(pool_size=pool_size, strides=pool_stride),\n",
    "                                Conv2D(filters=init_conv_filters*3, kernel_size=kernel_size,\n",
    "                                        strides=conv_stride, padding=\"same\", activation=\"relu\"),\n",
    "                                Conv2D(filters=init_conv_filters*4, kernel_size=kernel_size,\n",
    "                                        strides=conv_stride, padding=\"same\", activation=\"relu\"),\n",
    "                                MaxPool2D(pool_size=pool_size, strides=pool_stride),\n",
    "                                Flatten(),\n",
    "                                Dense(24*24*32, activation=\"relu\"),\n",
    "                                Dense(output_size, activation=\"relu\")\n",
    "        ])\n",
    "        self.layers.summary()\n",
    "\n"
   ]
  },
  {
   "cell_type": "code",
   "execution_count": 70,
   "id": "76e48a3f",
   "metadata": {
    "scrolled": false
   },
   "outputs": [
    {
     "name": "stdout",
     "output_type": "stream",
     "text": [
      "Model: \"sequential_26\"\n",
      "_________________________________________________________________\n",
      " Layer (type)                Output Shape              Param #   \n",
      "=================================================================\n",
      " conv2d_56 (Conv2D)          (None, 96, 96, 8)         80        \n",
      "                                                                 \n",
      " conv2d_57 (Conv2D)          (None, 96, 96, 16)        1168      \n",
      "                                                                 \n",
      " max_pooling2d_28 (MaxPoolin  (None, 48, 48, 16)       0         \n",
      " g2D)                                                            \n",
      "                                                                 \n",
      " conv2d_58 (Conv2D)          (None, 48, 48, 24)        3480      \n",
      "                                                                 \n",
      " conv2d_59 (Conv2D)          (None, 48, 48, 32)        6944      \n",
      "                                                                 \n",
      " max_pooling2d_29 (MaxPoolin  (None, 24, 24, 32)       0         \n",
      " g2D)                                                            \n",
      "                                                                 \n",
      " flatten_10 (Flatten)        (None, 18432)             0         \n",
      "                                                                 \n",
      " dense_18 (Dense)            (None, 18432)             339757056 \n",
      "                                                                 \n",
      " dense_19 (Dense)            (None, 30)                552990    \n",
      "                                                                 \n",
      "=================================================================\n",
      "Total params: 340,321,718\n",
      "Trainable params: 340,321,718\n",
      "Non-trainable params: 0\n",
      "_________________________________________________________________\n"
     ]
    }
   ],
   "source": [
    "model = Facial_Kepoints_Detect(input_size=[96,96,1], output_size=30, init_conv_filters=8,)\n"
   ]
  },
  {
   "cell_type": "code",
   "execution_count": 39,
   "id": "01937112",
   "metadata": {},
   "outputs": [
    {
     "data": {
      "text/plain": [
       "((8, 16), 16)"
      ]
     },
     "execution_count": 39,
     "metadata": {},
     "output_type": "execute_result"
    }
   ],
   "source": [
    "filters = (8 * (2 * 0 + 1), 8 * (2 * 0 + 2))\n",
    "filters, filters[-1]"
   ]
  },
  {
   "cell_type": "code",
   "execution_count": 40,
   "id": "ce78e921",
   "metadata": {},
   "outputs": [],
   "source": [
    "last_input_size = [96,96,1]\n",
    "pool_size = (2,2)"
   ]
  },
  {
   "cell_type": "code",
   "execution_count": 41,
   "id": "eca0416e",
   "metadata": {},
   "outputs": [
    {
     "data": {
      "text/plain": [
       "dtype('int64')"
      ]
     },
     "execution_count": 41,
     "metadata": {},
     "output_type": "execute_result"
    }
   ],
   "source": [
    "np.array(last_input_size).dtype"
   ]
  },
  {
   "cell_type": "code",
   "execution_count": 42,
   "id": "4f24693e",
   "metadata": {},
   "outputs": [
    {
     "data": {
      "text/plain": [
       "[48, 48, 16]"
      ]
     },
     "execution_count": 42,
     "metadata": {},
     "output_type": "execute_result"
    }
   ],
   "source": [
    "last_input_size = list((np.array(last_input_size[:2]) / pool_size[0]).astype(\"int64\")) + [filters[-1]]\n",
    "last_input_size"
   ]
  },
  {
   "cell_type": "code",
   "execution_count": null,
   "id": "fdd94e9f",
   "metadata": {},
   "outputs": [],
   "source": []
  },
  {
   "cell_type": "code",
   "execution_count": null,
   "id": "539e37b3",
   "metadata": {},
   "outputs": [],
   "source": []
  },
  {
   "cell_type": "code",
   "execution_count": null,
   "id": "21ff09b3",
   "metadata": {},
   "outputs": [],
   "source": []
  }
 ],
 "metadata": {
  "kernelspec": {
   "display_name": "Python 3.9.12 ('dnnWs')",
   "language": "python",
   "name": "python3"
  },
  "language_info": {
   "codemirror_mode": {
    "name": "ipython",
    "version": 3
   },
   "file_extension": ".py",
   "mimetype": "text/x-python",
   "name": "python",
   "nbconvert_exporter": "python",
   "pygments_lexer": "ipython3",
   "version": "3.9.12"
  },
  "vscode": {
   "interpreter": {
    "hash": "1017888faa00316b94fabf4411dd7cac1bcddff5715399b6c5b4190ce93ea841"
   }
  }
 },
 "nbformat": 4,
 "nbformat_minor": 5
}
